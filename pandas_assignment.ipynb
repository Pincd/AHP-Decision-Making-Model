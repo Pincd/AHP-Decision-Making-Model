{
  "cells": [
    {
      "cell_type": "markdown",
      "metadata": {
        "id": "view-in-github",
        "colab_type": "text"
      },
      "source": [
        "<a href=\"https://colab.research.google.com/github/Pincd/AHP-Decision-Making-Model/blob/master/pandas_assignment.ipynb\" target=\"_parent\"><img src=\"https://colab.research.google.com/assets/colab-badge.svg\" alt=\"Open In Colab\"/></a>"
      ]
    },
    {
      "cell_type": "markdown",
      "id": "d7a4d6ac",
      "metadata": {
        "id": "d7a4d6ac"
      },
      "source": [
        "# Основы машинного обучения: лабораторная работа №1\n",
        "## Задание 3. Знакомство с Pandas\n",
        "\n",
        "В этом задании необходимо научиться базовым приемам работы с данными. Необходимо загрузить заданный по варианту датасет, провести разведочный анализ данных, сформулировать гипотезы о возможном значении всех полей в датасете, проверить эти гипотезы, и ответить на вопросы по данным. <!-- Если в конкретном задании не указано иное, проводить очистку данных (удаление пустых и невалидных значений) не нужно. -->\n",
        "\n",
        "### Цель\n",
        "\n",
        "Знакомство с разведочным анализом данных и применение Pandas для извлечения информации\n",
        "\n",
        "### Оценивание и баллы\n",
        "\n",
        "За это задание в общей сложности можно получить до 4 баллов. Задание частично проверяется автоматически, а частично будет оцениваться вручную. Чтобы получить максимальный балл,  необходимо успешно выполнить приведенные ниже задачи.\n",
        "\n",
        "## Важные замечания\n",
        "\n",
        "1. *Откройте этот файл в своем репозитории на GitHub и скопируйте адрес из адресной строки браузера. Перейдите в [Google Colab](https://colab.research.google.com/), выберите `Файл -> Открыть ноутбук -> GitHub`, вставьте скопированный URL и нажмите кнопку поиска (кнопка с лупой справа от поля ввода строки для поиска). В Google Colab откроется копия этого ноутбука из персонального репозитория на GitHub.*\n",
        "2. *Не удаляйте и не изменяйте имена переменных в ячейках с кодом ниже. Можно добавлять в каждую ячейку произвольное количество строк кода, главное - сохранить результат решения задачи в предопределенную (-ые) переменную (-ые) в соответствующей ячейке. Если этого не сделать, автоматические тесты не будут пройдены.*\n",
        "3. *Чтобы сохранить работу, выберите `Файл -> Сохранить копию на GitHub` и __вручную выберите правильный репозиторий из раскрывающегося списка__.*\n",
        "4. *Если в процессе выполнения задания этот файл окажется испорчен, ознакомьтесь с инструкцией в ноутбуке [jupyter_assignment](jupyter_assignment.ipynb), раздел \"Повторная сдача\".*  \n"
      ]
    },
    {
      "cell_type": "markdown",
      "id": "caf9d03d",
      "metadata": {
        "id": "caf9d03d"
      },
      "source": [
        "#### Задачи\n",
        "\n",
        "#### 1. Определить номер варианта\n",
        "Перейдите по ссылке из личного кабинета на Google Таблицу со списком студентов. Найдите свое ФИО в списке и запомните соответствующий порядковый номер (поле № п/п) в первом столбце. Заполните его в ячейке ниже и выполните ячейку. Если вы не можете найти себя в списке, обратитесь к своему преподавателю."
      ]
    },
    {
      "cell_type": "code",
      "execution_count": null,
      "id": "1e5cdd43",
      "metadata": {
        "id": "1e5cdd43"
      },
      "outputs": [],
      "source": [
        "### BEGIN YOUR CODE\n",
        "\n",
        "Student_ID = 11\n",
        "\n",
        "### END YOUR CODE"
      ]
    },
    {
      "cell_type": "markdown",
      "id": "62528c2d",
      "metadata": {
        "id": "62528c2d"
      },
      "source": [
        "Теперь выполните следующую ячейку. Она вычислит номер задания и выведет его."
      ]
    },
    {
      "cell_type": "code",
      "execution_count": null,
      "id": "d6776709",
      "metadata": {
        "id": "d6776709",
        "outputId": "36842381-fd03-44c0-a2f8-a419436eb706",
        "colab": {
          "base_uri": "https://localhost:8080/"
        }
      },
      "outputs": [
        {
          "output_type": "stream",
          "name": "stdout",
          "text": [
            "Датасет 'Open Food Facts' доступен по следующей ссылке: https://raw.githubusercontent.com/markpolyak/datasets/refs/heads/main/data/en.openfoodfacts.org.products.tsv.tar.bz2\n",
            "В заданиях ниже, где нужно выбрать вопрос, всегда выбирайте вопрос № 3\n"
          ]
        }
      ],
      "source": [
        "datasets = [('Chipotle','https://raw.githubusercontent.com/justmarkham/DAT8/master/data/chipotle.tsv'), ('US Air Carrier market in 2019','https://raw.githubusercontent.com/markpolyak/datasets/refs/heads/main/data/aircarrier_market_us_2019.zip'), ('Open Food Facts', 'https://raw.githubusercontent.com/markpolyak/datasets/refs/heads/main/data/en.openfoodfacts.org.products.tsv.tar.bz2')]\n",
        "\n",
        "dataset_id = None if Student_ID is None else Student_ID % len(datasets)\n",
        "if dataset_id is None:\n",
        "    print(\"ОШИБКА! Не указан порядковый номер студента в списке группы.\")\n",
        "else:\n",
        "    print(f\"Датасет '{datasets[dataset_id][0]}' доступен по следующей ссылке: {datasets[dataset_id][1]}\")\n",
        "    print(f\"В заданиях ниже, где нужно выбрать вопрос, всегда выбирайте вопрос № {dataset_id+1}\")"
      ]
    },
    {
      "cell_type": "markdown",
      "id": "d4790a3a",
      "metadata": {
        "id": "d4790a3a"
      },
      "source": [
        "Скачайте датасет с помощью команды `!wget <dataset_url>`, где `<dataset_url>` необходимо заменить на ссылку на датасет, появившуюся после выполнения предыдущей ячейки. При необходимости разархивируйте датасет, используя команды `!unzip`, `!tar` и др.\n",
        "\n",
        "*Примечание: в Jupyter-ноутбуке можно использовать любые команды командного интерпретатора bash. Для этого необходимо поставить в ячейке с кодом восклицательный знак `!`, после которого записать команду bash со всеми необходимыми аргументами. Результат выполнения этой команды bash будет возвращен в Jupyter и его можно использовать в коде на Python.*"
      ]
    },
    {
      "cell_type": "code",
      "execution_count": 1,
      "id": "a2d0062c",
      "metadata": {
        "id": "a2d0062c",
        "outputId": "1f7a1bac-1c3d-40c8-ab9a-30d184e9c1b6",
        "colab": {
          "base_uri": "https://localhost:8080/"
        }
      },
      "outputs": [
        {
          "output_type": "stream",
          "name": "stdout",
          "text": [
            "--2025-04-27 14:53:49--  https://raw.githubusercontent.com/markpolyak/datasets/refs/heads/main/data/en.openfoodfacts.org.products.tsv.tar.bz2\n",
            "Resolving raw.githubusercontent.com (raw.githubusercontent.com)... 185.199.109.133, 185.199.110.133, 185.199.108.133, ...\n",
            "Connecting to raw.githubusercontent.com (raw.githubusercontent.com)|185.199.109.133|:443... connected.\n",
            "HTTP request sent, awaiting response... 200 OK\n",
            "Length: 75977297 (72M) [application/octet-stream]\n",
            "Saving to: ‘/content/raw_data’\n",
            "\n",
            "/content/raw_data   100%[===================>]  72.46M   120MB/s    in 0.6s    \n",
            "\n",
            "2025-04-27 14:53:50 (120 MB/s) - ‘/content/raw_data’ saved [75977297/75977297]\n",
            "\n",
            "/content\n",
            "total 73M\n",
            "drwxr-xr-x 1 root root 4.0K Apr 24 18:20 sample_data\n",
            "-rw-r--r-- 1 root root  73M Apr 27 14:53 raw_data\n",
            "/content/raw_data: bzip2 compressed data, block size = 900k\n",
            "._en.openfoodfacts.org.products.tsv\n",
            "en.openfoodfacts.org.products.tsv\n",
            "total 1.1G\n",
            "-rwxr-xr-x 1  501 staff 964M Sep 19  2019 en.openfoodfacts.org.products.tsv\n",
            "drwxr-xr-x 1 root root  4.0K Apr 24 18:20 sample_data\n",
            "-rw-r--r-- 1 root root   73M Apr 27 14:53 raw_data\n"
          ]
        }
      ],
      "source": [
        "### BEGIN YOUR CODE\n",
        "\n",
        "#!filename=$(mktemp)\n",
        "#!echo $filename\n",
        "!wget -O /content/raw_data https://raw.githubusercontent.com/markpolyak/datasets/refs/heads/main/data/en.openfoodfacts.org.products.tsv.tar.bz2\n",
        "!pwd\n",
        "!ls -ltrh\n",
        "!file /content/raw_data\n",
        "#!unzip /content/raw_data\n",
        "!tar -xvjf /content/raw_data\n",
        "!ls -ltrh\n",
        "# !tar ...\n",
        "# !gunzip ...\n",
        "\n",
        "### END YOUR CODE"
      ]
    },
    {
      "cell_type": "markdown",
      "id": "7a03771c",
      "metadata": {
        "id": "7a03771c"
      },
      "source": [
        "##### 2. Загрузите датасет в pandas.DataFrame, сохраните его в переменной `df`. Cконвертируйте названия столбцов в нижний регистр"
      ]
    },
    {
      "cell_type": "code",
      "execution_count": 2,
      "id": "8940fc17",
      "metadata": {
        "id": "8940fc17"
      },
      "outputs": [],
      "source": [
        "import pandas as pd\n",
        "\n",
        "#df = pandas.read_table(/content/en.openfoodfacts.org.products.tsv)\n",
        "\n",
        "df = pd.read_csv(\"/content/en.openfoodfacts.org.products.tsv\",sep='\\t', low_memory=False)"
      ]
    },
    {
      "cell_type": "markdown",
      "id": "bf7dc696",
      "metadata": {
        "id": "bf7dc696"
      },
      "source": [
        "##### 3. Какие столбцы присутствуют в наборе данных? (0.1 балла)"
      ]
    },
    {
      "cell_type": "code",
      "execution_count": null,
      "id": "190bb44f",
      "metadata": {
        "id": "190bb44f",
        "colab": {
          "base_uri": "https://localhost:8080/"
        },
        "outputId": "8e4388b6-4779-40a1-aa71-e5f76b51d6ee"
      },
      "outputs": [
        {
          "output_type": "stream",
          "name": "stdout",
          "text": [
            "['code', 'url', 'creator', 'created_t', 'created_datetime', 'last_modified_t', 'last_modified_datetime', 'product_name', 'generic_name', 'quantity', 'packaging', 'packaging_tags', 'brands', 'brands_tags', 'categories', 'categories_tags', 'categories_en', 'origins', 'origins_tags', 'manufacturing_places', 'manufacturing_places_tags', 'labels', 'labels_tags', 'labels_en', 'emb_codes', 'emb_codes_tags', 'first_packaging_code_geo', 'cities', 'cities_tags', 'purchase_places', 'stores', 'countries', 'countries_tags', 'countries_en', 'ingredients_text', 'allergens', 'allergens_en', 'traces', 'traces_tags', 'traces_en', 'serving_size', 'no_nutriments', 'additives_n', 'additives', 'additives_tags', 'additives_en', 'ingredients_from_palm_oil_n', 'ingredients_from_palm_oil', 'ingredients_from_palm_oil_tags', 'ingredients_that_may_be_from_palm_oil_n', 'ingredients_that_may_be_from_palm_oil', 'ingredients_that_may_be_from_palm_oil_tags', 'nutrition_grade_uk', 'nutrition_grade_fr', 'pnns_groups_1', 'pnns_groups_2', 'states', 'states_tags', 'states_en', 'main_category', 'main_category_en', 'image_url', 'image_small_url', 'energy_100g', 'energy-from-fat_100g', 'fat_100g', 'saturated-fat_100g', '-butyric-acid_100g', '-caproic-acid_100g', '-caprylic-acid_100g', '-capric-acid_100g', '-lauric-acid_100g', '-myristic-acid_100g', '-palmitic-acid_100g', '-stearic-acid_100g', '-arachidic-acid_100g', '-behenic-acid_100g', '-lignoceric-acid_100g', '-cerotic-acid_100g', '-montanic-acid_100g', '-melissic-acid_100g', 'monounsaturated-fat_100g', 'polyunsaturated-fat_100g', 'omega-3-fat_100g', '-alpha-linolenic-acid_100g', '-eicosapentaenoic-acid_100g', '-docosahexaenoic-acid_100g', 'omega-6-fat_100g', '-linoleic-acid_100g', '-arachidonic-acid_100g', '-gamma-linolenic-acid_100g', '-dihomo-gamma-linolenic-acid_100g', 'omega-9-fat_100g', '-oleic-acid_100g', '-elaidic-acid_100g', '-gondoic-acid_100g', '-mead-acid_100g', '-erucic-acid_100g', '-nervonic-acid_100g', 'trans-fat_100g', 'cholesterol_100g', 'carbohydrates_100g', 'sugars_100g', '-sucrose_100g', '-glucose_100g', '-fructose_100g', '-lactose_100g', '-maltose_100g', '-maltodextrins_100g', 'starch_100g', 'polyols_100g', 'fiber_100g', 'proteins_100g', 'casein_100g', 'serum-proteins_100g', 'nucleotides_100g', 'salt_100g', 'sodium_100g', 'alcohol_100g', 'vitamin-a_100g', 'beta-carotene_100g', 'vitamin-d_100g', 'vitamin-e_100g', 'vitamin-k_100g', 'vitamin-c_100g', 'vitamin-b1_100g', 'vitamin-b2_100g', 'vitamin-pp_100g', 'vitamin-b6_100g', 'vitamin-b9_100g', 'folates_100g', 'vitamin-b12_100g', 'biotin_100g', 'pantothenic-acid_100g', 'silica_100g', 'bicarbonate_100g', 'potassium_100g', 'chloride_100g', 'calcium_100g', 'phosphorus_100g', 'iron_100g', 'magnesium_100g', 'zinc_100g', 'copper_100g', 'manganese_100g', 'fluoride_100g', 'selenium_100g', 'chromium_100g', 'molybdenum_100g', 'iodine_100g', 'caffeine_100g', 'taurine_100g', 'ph_100g', 'fruits-vegetables-nuts_100g', 'fruits-vegetables-nuts-estimate_100g', 'collagen-meat-protein-ratio_100g', 'cocoa_100g', 'chlorophyl_100g', 'carbon-footprint_100g', 'nutrition-score-fr_100g', 'nutrition-score-uk_100g', 'glycemic-index_100g', 'water-hardness_100g']\n"
          ]
        }
      ],
      "source": [
        "columns = df.columns.tolist() # Place your code here instead of '...'\n",
        "\n",
        "print(columns)"
      ]
    },
    {
      "cell_type": "markdown",
      "id": "e693a9b0",
      "metadata": {
        "id": "e693a9b0"
      },
      "source": [
        "##### 4. Ответьте на вопрос и сохраните ответ в переменной `answer1` (0.1 балла)\n",
        "\n",
        "Вопросы:\n",
        "1. Какое блюдо (`item_name`) заказывали чаще всего?\n",
        "2. Сколько авиаперевозчиков (`carrier`) представлены в датасете?\n",
        "3. По скольким продуктам в датасете имеется информация о содержании аллергенов (`allergens`)?"
      ]
    },
    {
      "cell_type": "code",
      "execution_count": null,
      "id": "b1615597",
      "metadata": {
        "id": "b1615597",
        "colab": {
          "base_uri": "https://localhost:8080/"
        },
        "outputId": "ceaeb3a5-43c3-4bad-cbd0-13cac1b5dd4a"
      },
      "outputs": [
        {
          "output_type": "stream",
          "name": "stdout",
          "text": [
            "37174\n"
          ]
        }
      ],
      "source": [
        "answer1 = (df['allergens'].notna() & (df['allergens'].str.strip() != '')).sum()\n",
        "\n",
        "print(answer1)"
      ]
    },
    {
      "cell_type": "markdown",
      "id": "e5e4a54b",
      "metadata": {
        "id": "e5e4a54b"
      },
      "source": [
        "##### 5. Ответьте на вопрос и сохраните ответ в переменной `answer2` (0.1 балла)\n",
        "\n",
        "Вопросы:\n",
        "1. Сколько всего было заказов блюда, название которого сохранено в `answer1`?\n",
        "2. Посчитайте общие суммарные количества перевезенных пассажиров (`passengers`), фунтов груза (`freight`) и почты (`mail`) на маршруте из Великобритании (GB) в США (US). В `answer2` запишите максимальное из трех получившихся чисел.\n",
        "3. Сколько всего продуктов, относящихся к категории \"молочные\" (`Dairies,Milks`), с заполненным названием?"
      ]
    },
    {
      "cell_type": "code",
      "execution_count": null,
      "id": "5e576703",
      "metadata": {
        "id": "5e576703",
        "colab": {
          "base_uri": "https://localhost:8080/"
        },
        "outputId": "4ca535df-f885-48ef-f835-9aa2b30c6d0e"
      },
      "outputs": [
        {
          "output_type": "stream",
          "name": "stdout",
          "text": [
            "13\n"
          ]
        }
      ],
      "source": [
        "answer2 = (df['categories'].isin(['Dairies', 'Milks']) & (df['product_name'].notna()) & (df['product_name'].str.strip() != '')).sum()\n",
        "\n",
        "print(answer2)"
      ]
    },
    {
      "cell_type": "markdown",
      "id": "f28dfff0",
      "metadata": {
        "id": "f28dfff0"
      },
      "source": [
        "##### 6. Ответьте на вопрос и сохраните ответ в переменной `answer3` (0.2 балла)\n",
        "\n",
        "Вопросы:\n",
        "1. Какой доход получила сеть Chipotle Mexican Grill на заказах, попавших в датасет?\n",
        "2. Какой авиаперевозчик (`unique_carrier_name`) перевез больше всего груза (`mail` + `freight`)?\n",
        "3. Как называется продукт категории `Fats` с максимальной жирностью, не превышающей 30 г на 100 г продукта?"
      ]
    },
    {
      "cell_type": "code",
      "execution_count": 18,
      "id": "0618e3db",
      "metadata": {
        "id": "0618e3db",
        "colab": {
          "base_uri": "https://localhost:8080/"
        },
        "outputId": "5ba90848-7574-48a6-c1a4-0ad83ae7a9c8"
      },
      "outputs": [
        {
          "output_type": "stream",
          "name": "stdout",
          "text": [
            "Empty DataFrame\n",
            "Columns: [product_name]\n",
            "Index: []\n",
            " Number of rows with category 'Fats'  1\n",
            "                                             product_name  fat_100g\n",
            "268538  Bénédicta Mayonnaise légère Mon Secret pointe ...      46.0\n"
          ]
        }
      ],
      "source": [
        "answer3 = df.loc[(df['categories'].isin(['Fats'])) & (df['fat_100g']<=30), ['product_name']]\n",
        "\n",
        "print(answer3)\n",
        "#print(f\" Number of rows with category 'Fats': {df[df['categories'] == 'Fats'].shape[0]}\")\n",
        "#print(df.loc[(df['categories'].isin(['Fats'])), ['product_name', 'fat_100g']])"
      ]
    },
    {
      "cell_type": "markdown",
      "id": "3924c56d",
      "metadata": {
        "id": "3924c56d"
      },
      "source": [
        "##### 7. Ответьте на вопрос и сохраните ответ в переменной `answer4` (0.25 балла)\n",
        "\n",
        "Вопросы:\n",
        "1. Каков средний доход с одного заказа?\n",
        "2. Какое максимальное количество пассажиров одна авиакомпания смогла перевезти из США в другие страны за все время?\n",
        "3. Какова энергетическая ценность в кДж продукта из России (`countries_en`) имеющего максимальное содержание холестерина?"
      ]
    },
    {
      "cell_type": "code",
      "execution_count": 28,
      "id": "bea51b74",
      "metadata": {
        "id": "bea51b74",
        "colab": {
          "base_uri": "https://localhost:8080/"
        },
        "outputId": "83aa4ea8-53d8-4904-acff-a6305f19fb8f"
      },
      "outputs": [
        {
          "output_type": "stream",
          "name": "stdout",
          "text": [
            "2319.0\n"
          ]
        }
      ],
      "source": [
        "#answer4 = df['countries_en'].unique()\n",
        "\n",
        "answer4 = df[df['countries_en'].isin(['Russia'])].loc[lambda x: x['cholesterol_100g'].idxmax(), 'energy_100g']\n",
        "\n",
        "\n",
        "print(answer4)"
      ]
    },
    {
      "cell_type": "markdown",
      "id": "5d00d132",
      "metadata": {
        "id": "5d00d132"
      },
      "source": [
        "##### 8. Ответьте на вопрос и сохраните ответ в переменной `answer5` (0.25 балл)\n",
        "\n",
        "Вопросы:\n",
        "1. Сколько раз был заказан самый популярный напиток (Coke, Sprite, Mountain Dew и т.п.)?\n",
        "2. Между какими двумя городами было перевезено наибольшее количество пассажиров? Учтите оба направления. Ответ запишите в виде списка из двух строк.\n",
        "3. Приведите названия всех аллергенов к нижнему регистру. Какой аллерген встречается в продуктах чаще всего?"
      ]
    },
    {
      "cell_type": "code",
      "execution_count": null,
      "id": "773f3787",
      "metadata": {
        "id": "773f3787"
      },
      "outputs": [],
      "source": [
        "answer5 = ... # Place your code here instead of '...'\n",
        "\n",
        "print(answer5)"
      ]
    },
    {
      "cell_type": "markdown",
      "id": "fd33327f",
      "metadata": {
        "id": "fd33327f"
      },
      "source": [
        "##### 9. Ответьте на вопрос и сохраните ответ в переменной `answer6` (0.5 балл)\n",
        "\n",
        "Вопросы:\n",
        "1. Какой суммарный доход принесли напитки в заказах вегетарианцев?\n",
        "2. Для пары городов из предыдущего вопроса найдите 3 авиакомпании, которые перевезли больше всего пассажиров. Посчитайте, какой процент от общего пассажиропотока между этими городами перевезла каждая из трех авиакомпаний. В `answer6` запишите найденные проценты в виде списка из трех чисел, округлив их до двух знаков после запятой.\n",
        "3. Найдити самый опасный продукт, содержащий наибольшее количество аллергенов."
      ]
    },
    {
      "cell_type": "code",
      "execution_count": null,
      "id": "b5e8cc08",
      "metadata": {
        "id": "b5e8cc08"
      },
      "outputs": [],
      "source": [
        "answer6 = ... # Place your code here instead of '...'\n",
        "\n",
        "print(answer6)"
      ]
    },
    {
      "cell_type": "markdown",
      "id": "b0c39d4b",
      "metadata": {
        "id": "b0c39d4b"
      },
      "source": [
        "##### 10. Ответьте на вопрос и сохраните ответ в переменной `answer7` (0.5 балл)\n",
        "\n",
        "Вопросы:\n",
        "1. Сколько было сделано вегетарианских заказов? Заказ не считается вегетарианским, если в нем были не вегетарианские блюда.\n",
        "2. Для каждой страны найдите процент международного пассажиропотока (относительно США), используя общее количество пассажиров на рейсах класса F. В `answer7` запишите название страны с третьим по величине пассажиропотоком в/из США.\n",
        "3. Переведите названия групп продуктов (`pnns_groups_1`, `pnns_groups_2`) в нижний регистр. В переменную `answer7` запишите список, содержащий три элемента: название группы продуктов 1, название группы продуктов 2 и среднее количество пищевых волокон (fiber) для седьмой по насыщенности пищевыми волокнами группы продуктов."
      ]
    },
    {
      "cell_type": "code",
      "execution_count": null,
      "id": "2ad348d2",
      "metadata": {
        "id": "2ad348d2"
      },
      "outputs": [],
      "source": [
        "answer7 = ... # Place your code here instead of '...'\n",
        "\n",
        "print(answer7)"
      ]
    },
    {
      "cell_type": "markdown",
      "id": "d86bf7a9",
      "metadata": {
        "id": "d86bf7a9"
      },
      "source": [
        "##### 11. Ответьте на вопрос и сохраните ответ в переменной `answer8` (1 балл)\n",
        "\n",
        "Вопросы:\n",
        "1. Какой соус или дополнительный ингредиент по выбору (`choice_description`) чаще всего берут вместе с буррито с курицей (Chicken Burrito)?\n",
        "2. В каком месяце пассажиропоток между городами, записанными в переменную `answer5`, был максимальным?\n",
        "3. Какое название у группы продуктов `pnns_groups_2`, являющейся наиболее сбалансированной с точки зрения среднего содержания белков, жиров и углеводов? Под \"сбалансированной\" понимать близость БЖУ к пропорции 1:1:4."
      ]
    },
    {
      "cell_type": "code",
      "execution_count": null,
      "id": "6fb6af7c",
      "metadata": {
        "id": "6fb6af7c"
      },
      "outputs": [],
      "source": [
        "answer8 = ... # Place your code here instead of '...'\n",
        "\n",
        "print(answer8)"
      ]
    },
    {
      "cell_type": "markdown",
      "id": "1724764c",
      "metadata": {
        "id": "1724764c"
      },
      "source": [
        "##### 12. Визуализируйте данные в соответствии с заданием (1 балл)\n",
        "\n",
        "1. Постройте гистограмму распределения общей стоимости заказов. Найти и отметить на графике средний чек и медианную стоимость заказа.\n",
        "2. Постройте стековую столбчатую гистограмму пассажиропотока с разбивкой по городам (отдельные столбцы) и авиакомпаниям (разбивка внутри столбца).\n",
        "3. Постройте столбчатую гистограмму усредненной по группам продуктов энергетической ценности, с группировкой по `pnns_groups_1`.\n"
      ]
    },
    {
      "cell_type": "code",
      "execution_count": null,
      "id": "ceb2757d",
      "metadata": {
        "id": "ceb2757d"
      },
      "outputs": [],
      "source": [
        "# Place your code here"
      ]
    }
  ],
  "metadata": {
    "kernelspec": {
      "display_name": "Python [conda env:base] *",
      "language": "python",
      "name": "conda-base-py"
    },
    "language_info": {
      "codemirror_mode": {
        "name": "ipython",
        "version": 3
      },
      "file_extension": ".py",
      "mimetype": "text/x-python",
      "name": "python",
      "nbconvert_exporter": "python",
      "pygments_lexer": "ipython3",
      "version": "3.12.7"
    },
    "colab": {
      "provenance": [],
      "include_colab_link": true
    }
  },
  "nbformat": 4,
  "nbformat_minor": 5
}